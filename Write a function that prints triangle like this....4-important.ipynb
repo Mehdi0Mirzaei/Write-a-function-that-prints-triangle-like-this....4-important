{
 "cells": [
  {
   "cell_type": "markdown",
   "id": "5f5b4706",
   "metadata": {},
   "source": [
    "## Triangle"
   ]
  },
  {
   "cell_type": "code",
   "execution_count": 6,
   "id": "36dd620d",
   "metadata": {},
   "outputs": [],
   "source": [
    "def triangle(n):\n",
    "    k=2*n-2\n",
    "    for i in range(0,n):\n",
    "        for j in range(0,k):\n",
    "            print(end=\" \")\n",
    "        k=k-2\n",
    "        for j in range(0,i+1):\n",
    "            print('*',end='')\n",
    "        print('\\r')"
   ]
  },
  {
   "cell_type": "code",
   "execution_count": 7,
   "id": "303758fd",
   "metadata": {},
   "outputs": [
    {
     "name": "stdout",
     "output_type": "stream",
     "text": [
      "        *\r\n",
      "      **\r\n",
      "    ***\r\n",
      "  ****\r\n",
      "*****\r\n"
     ]
    }
   ],
   "source": [
    "triangle(5)"
   ]
  },
  {
   "cell_type": "markdown",
   "id": "b2c9a18c",
   "metadata": {},
   "source": [
    "## The second method"
   ]
  },
  {
   "cell_type": "code",
   "execution_count": 3,
   "id": "08e0d649",
   "metadata": {},
   "outputs": [
    {
     "name": "stdout",
     "output_type": "stream",
     "text": [
      "Enter a numbar: 5\n",
      "     \n",
      "    *\n",
      "   **\n",
      "  ***\n",
      " ****\n",
      "*****\n"
     ]
    }
   ],
   "source": [
    "n=int(input(\"Enter a numbar: \"))\n",
    "i=0\n",
    "while i<=n:\n",
    "    print(\" \"*(n-i)+\"*\"*i)\n",
    "    i+=1"
   ]
  },
  {
   "cell_type": "code",
   "execution_count": null,
   "id": "95d27abb",
   "metadata": {},
   "outputs": [],
   "source": []
  }
 ],
 "metadata": {
  "kernelspec": {
   "display_name": "Python 3 (ipykernel)",
   "language": "python",
   "name": "python3"
  },
  "language_info": {
   "codemirror_mode": {
    "name": "ipython",
    "version": 3
   },
   "file_extension": ".py",
   "mimetype": "text/x-python",
   "name": "python",
   "nbconvert_exporter": "python",
   "pygments_lexer": "ipython3",
   "version": "3.9.17"
  }
 },
 "nbformat": 4,
 "nbformat_minor": 5
}
